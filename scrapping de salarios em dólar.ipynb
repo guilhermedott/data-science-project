{
 "cells": [
  {
   "cell_type": "code",
   "execution_count": null,
   "metadata": {},
   "outputs": [
    {
     "name": "stdout",
     "output_type": "stream",
     "text": [
      "         Country Annual Nominal Wage (US$)\n",
      "0    Afghanistan                       858\n",
      "1        Albania                     4,637\n",
      "2        Algeria                     1,777\n",
      "3        Andorra                    18,253\n",
      "4         Angola                       663\n",
      "..           ...                       ...\n",
      "196    Venezuela                     10.32\n",
      "197      Vietnam                     1,591\n",
      "198        Yemen                          \n",
      "199       Zambia                       596\n",
      "200     Zimbabwe                          \n",
      "\n",
      "[201 rows x 2 columns]\n"
     ]
    }
   ],
   "source": [
    "import requests\n",
    "from bs4 import BeautifulSoup\n",
    "import pandas as pd\n",
    "\n",
    "class MinimumWageScraper:\n",
    "    def __init__(self, url=\"https://en.wikipedia.org/wiki/List_of_countries_by_minimum_wage\"):\n",
    "        \"\"\"\n",
    "        Classe para realizar o web scraping de salários mínimos de países a partir de uma página da Wikipedia.\n",
    "        \"\"\"\n",
    "        self.url = url\n",
    "        self.countries = []\n",
    "        self.wages = []\n",
    "        self.dataframe = None\n",
    "\n",
    "    def fetch_data(self):\n",
    "        \"\"\"Faz a requisição da página e obtém o conteúdo HTML.\"\"\"\n",
    "        response = requests.get(self.url)\n",
    "        response.raise_for_status()  # Levanta um erro se a requisição falhar\n",
    "        self.soup = BeautifulSoup(response.text, 'html.parser')\n",
    "\n",
    "    def parse_table(self):\n",
    "        \"\"\"Extrai os dados da tabela de salários mínimos.\"\"\"\n",
    "        table = self.soup.find('table', {'class': 'wikitable'})\n",
    "        if not table:\n",
    "            raise ValueError(\"Tabela não encontrada na página.\")\n",
    "\n",
    "        for row in table.find_all('tr')[1:]:\n",
    "            cells = row.find_all('td')\n",
    "            if len(cells) > 1:  # Verifica se a linha tem as colunas esperadas\n",
    "                country = cells[0].get_text(strip=True)\n",
    "                wage = cells[2].get_text(strip=True)  # Pega a coluna de salários anuais nominais\n",
    "                self.countries.append(country)\n",
    "                self.wages.append(wage)\n",
    "\n",
    "    def create_dataframe(self):\n",
    "        \"\"\"Cria um DataFrame do pandas com os dados extraídos.\"\"\"\n",
    "        self.dataframe = pd.DataFrame({\n",
    "            'Country': self.countries,\n",
    "            'Annual Nominal Wage (US$)': self.wages\n",
    "        })\n",
    "\n",
    "    def save_to_csv(self, filename):\n",
    "        \"\"\"Salva os dados extraídos em um arquivo CSV.\"\"\"\n",
    "        if self.dataframe is None:\n",
    "            raise ValueError(\"Nenhum dado encontrado para salvar.\")\n",
    "        self.dataframe.to_csv(filename, index=False)\n",
    "        print(f\"Dados salvos em {filename}\")\n",
    "\n",
    "    def scrape(self):\n",
    "        \"\"\"Executa o processo completo de scraping: fetch, parse e criação do DataFrame.\"\"\"\n",
    "        self.fetch_data()\n",
    "        self.parse_table()\n",
    "        self.create_dataframe()\n",
    "\n",
    "    def __repr__(self):\n",
    "        return f\"MinimumWageScraper(url='{self.url}')\"\n"
   ]
  }
 ],
 "metadata": {
  "kernelspec": {
   "display_name": "Python 3",
   "language": "python",
   "name": "python3"
  },
  "language_info": {
   "codemirror_mode": {
    "name": "ipython",
    "version": 3
   },
   "file_extension": ".py",
   "mimetype": "text/x-python",
   "name": "python",
   "nbconvert_exporter": "python",
   "pygments_lexer": "ipython3",
   "version": "3.12.4"
  }
 },
 "nbformat": 4,
 "nbformat_minor": 2
}
