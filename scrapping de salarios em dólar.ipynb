{
 "cells": [
  {
   "cell_type": "code",
   "execution_count": 3,
   "metadata": {},
   "outputs": [
    {
     "name": "stdout",
     "output_type": "stream",
     "text": [
      "         Country Annual Nominal Wage (US$)\n",
      "0    Afghanistan                       858\n",
      "1        Albania                     4,637\n",
      "2        Algeria                     1,777\n",
      "3        Andorra                    18,253\n",
      "4         Angola                       663\n",
      "..           ...                       ...\n",
      "196    Venezuela                     10.32\n",
      "197      Vietnam                     1,591\n",
      "198        Yemen                          \n",
      "199       Zambia                       596\n",
      "200     Zimbabwe                          \n",
      "\n",
      "[201 rows x 2 columns]\n"
     ]
    }
   ],
   "source": [
    "import requests\n",
    "from bs4 import BeautifulSoup\n",
    "import pandas as pd\n",
    "\n",
    "# URL da página da Wikipedia\n",
    "url = \"https://en.wikipedia.org/wiki/List_of_countries_by_minimum_wage\"\n",
    "\n",
    "# Envia uma requisição para buscar o conteúdo da página\n",
    "response = requests.get(url)\n",
    "soup = BeautifulSoup(response.text, 'html.parser')\n",
    "\n",
    "# Encontra a tabela que contém os dados necessários\n",
    "table = soup.find('table', {'class': 'wikitable'})\n",
    "\n",
    "# Inicializa listas para armazenar os nomes dos países e os salários anuais nominais\n",
    "countries = []\n",
    "wages = []\n",
    "\n",
    "# Loop através de cada linha da tabela (ignorando a linha de cabeçalho)\n",
    "for row in table.find_all('tr')[1:]:\n",
    "    cells = row.find_all('td')\n",
    "    if len(cells) > 1:  # Verifica se a linha tem as colunas esperadas\n",
    "        country = cells[0].get_text(strip=True)\n",
    "        wage = cells[2].get_text(strip=True)  # A coluna do salário anual nominal é a terceira (índice 2)\n",
    "        countries.append(country)\n",
    "        wages.append(wage)\n",
    "\n",
    "# Cria um DataFrame do pandas com os dados extraídos\n",
    "df = pd.DataFrame({\n",
    "    'Country': countries,\n",
    "    'Annual Nominal Wage (US$)': wages\n",
    "})\n",
    "\n",
    "# Exibe o DataFrame\n",
    "print(df)\n",
    "\n",
    "\n"
   ]
  }
 ],
 "metadata": {
  "kernelspec": {
   "display_name": "Python 3",
   "language": "python",
   "name": "python3"
  },
  "language_info": {
   "codemirror_mode": {
    "name": "ipython",
    "version": 3
   },
   "file_extension": ".py",
   "mimetype": "text/x-python",
   "name": "python",
   "nbconvert_exporter": "python",
   "pygments_lexer": "ipython3",
   "version": "3.12.4"
  }
 },
 "nbformat": 4,
 "nbformat_minor": 2
}
