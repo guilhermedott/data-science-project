{
 "cells": [
  {
   "cell_type": "code",
   "execution_count": 2,
   "metadata": {},
   "outputs": [
    {
     "name": "stdout",
     "output_type": "stream",
     "text": [
      "       Country                                       Minimum Wage Currency\n",
      "0  Afghanistan  ؋5,500 (US$82.09) per month for non-permanent ...      858\n",
      "1      Albania  L39,086.94 (US$430) per month (480,000 lek per...    4,637\n",
      "2      Algeria  د.ج20,832.45 (US$156.19) per month, nationally...    1,777\n",
      "3      Andorra                         €7.7 (US$8.33) hourly.[16]   18,253\n",
      "4       Angola  Kz32,181 (US$61) per month; paid thirteen time...      663\n",
      "Data saved to minimum_wages.csv\n"
     ]
    }
   ],
   "source": [
    "import requests\n",
    "from bs4 import BeautifulSoup\n",
    "import pandas as pd\n",
    "\n",
    "def fetch_minimum_wages():\n",
    "    url = \"https://en.wikipedia.org/wiki/List_of_minimum_wages_by_country\"\n",
    "    response = requests.get(url)\n",
    "    if response.status_code != 200:\n",
    "        print(\"Failed to fetch data.\")\n",
    "        return None\n",
    "\n",
    "    soup = BeautifulSoup(response.content, \"html.parser\")\n",
    "\n",
    "    # Busca a tabela principal da página\n",
    "    table = soup.find(\"table\", {\"class\": \"wikitable\"})\n",
    "    if not table:\n",
    "        print(\"No table found on the page.\")\n",
    "        return None\n",
    "\n",
    "    # Extrai os dados da tabela\n",
    "    rows = table.find_all(\"tr\")\n",
    "    data = []\n",
    "    for row in rows[1:]:  # Ignorar cabeçalho\n",
    "        cols = row.find_all(\"td\")\n",
    "        if len(cols) > 1:  # Checar se tem dados suficientes\n",
    "            country = cols[0].get_text(strip=True)\n",
    "            wage = cols[1].get_text(strip=True)\n",
    "            currency = cols[2].get_text(strip=True) if len(cols) > 2 else \"N/A\"\n",
    "            data.append((country, wage, currency))\n",
    "\n",
    "    # Salvar em DataFrame\n",
    "    df = pd.DataFrame(data, columns=[\"Country\", \"Minimum Wage\", \"Currency\"])\n",
    "    return df\n",
    "\n",
    "# Executar e salvar\n",
    "df = fetch_minimum_wages()\n",
    "if df is not None:\n",
    "    print(df.head())\n",
    "    df.to_csv(\"C:\\\\Users\\\\S2Dev\\\\Downloads\\\\minimum_wages.csv\", index=False)\n",
    "    print(\"Data saved to minimum_wages.csv\")\n"
   ]
  },
  {
   "cell_type": "code",
   "execution_count": 3,
   "metadata": {},
   "outputs": [
    {
     "name": "stdout",
     "output_type": "stream",
     "text": [
      "       Country                                       Minimum Wage\n",
      "0  Afghanistan  ؋5,500 (US$82.09) per month for non-permanent ...\n",
      "1      Albania  L39,086.94 (US$430) per month (480,000 lek per...\n",
      "2      Algeria  د.ج20,832.45 (US$156.19) per month, nationally...\n",
      "3      Andorra                         €7.7 (US$8.33) hourly.[16]\n",
      "4       Angola  Kz32,181 (US$61) per month; paid thirteen time...\n",
      "Dados salvos em 'minimum_wages_country_only.csv'\n"
     ]
    }
   ],
   "source": [
    "import requests\n",
    "from bs4 import BeautifulSoup\n",
    "import pandas as pd\n",
    "\n",
    "def fetch_minimum_wages():\n",
    "    url = \"https://en.wikipedia.org/wiki/List_of_minimum_wages_by_country\"\n",
    "    response = requests.get(url)\n",
    "    if response.status_code != 200:\n",
    "        print(\"Failed to fetch data.\")\n",
    "        return None\n",
    "\n",
    "    soup = BeautifulSoup(response.content, \"html.parser\")\n",
    "\n",
    "    # Localiza a tabela principal\n",
    "    table = soup.find(\"table\", {\"class\": \"wikitable\"})\n",
    "    if not table:\n",
    "        print(\"No table found on the page.\")\n",
    "        return None\n",
    "\n",
    "    # Extrai as linhas da tabela\n",
    "    rows = table.find_all(\"tr\")\n",
    "    data = []\n",
    "    for row in rows[1:]:  # Ignora o cabeçalho da tabela\n",
    "        cols = row.find_all(\"td\")\n",
    "        if len(cols) >= 2:  # Checar se há ao menos duas colunas relevantes\n",
    "            country = cols[0].get_text(strip=True)  # Nome do país\n",
    "            wage = cols[1].get_text(strip=True)  # Valor do salário mínimo\n",
    "            data.append((country, wage))\n",
    "\n",
    "    # Salvar em DataFrame apenas com País e Remuneração\n",
    "    df = pd.DataFrame(data, columns=[\"Country\", \"Minimum Wage\"])\n",
    "    return df\n",
    "\n",
    "# Executa a função\n",
    "df = fetch_minimum_wages()\n",
    "if df is not None:\n",
    "    # Exibe os primeiros países\n",
    "    print(df.head())\n",
    "\n",
    "    # Salva apenas País e Remuneração em um CSV\n",
    "    df.to_csv(\"C:\\\\Users\\\\S2Dev\\\\Downloads\\\\minimum_wages_country_only.csv\", index=False)\n",
    "    print(\"Dados salvos em 'minimum_wages_country_only.csv'\")\n"
   ]
  }
 ],
 "metadata": {
  "kernelspec": {
   "display_name": "Python 3",
   "language": "python",
   "name": "python3"
  },
  "language_info": {
   "codemirror_mode": {
    "name": "ipython",
    "version": 3
   },
   "file_extension": ".py",
   "mimetype": "text/x-python",
   "name": "python",
   "nbconvert_exporter": "python",
   "pygments_lexer": "ipython3",
   "version": "3.12.4"
  }
 },
 "nbformat": 4,
 "nbformat_minor": 2
}
